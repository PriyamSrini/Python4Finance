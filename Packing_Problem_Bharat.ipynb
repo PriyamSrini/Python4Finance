{
 "cells": [
  {
   "cell_type": "code",
   "execution_count": null,
   "metadata": {},
   "outputs": [],
   "source": [
    "import os\n",
    "import shutil\n",
    "from shutil import make_archive\n",
    "\n",
    "parent_folder = r\"C:\\Users\\bharakumar\\Desktop\"\n",
    "\n",
    "def pack_it(source_folder):\n",
    "    #Zips the folder contents to the parent fodler\n",
    "    shutil.make_archive(os.path.join(parent_folder, os.path.basename(source_folder)), 'zip', source_folder)\n",
    "\n",
    "def pack_it_to(source_folder, destination_folder):\n",
    "    #Zips the contents of a folder to another folder\n",
    "    shutil.make_archive(os.path.join(destination_folder, os.path.basename(source_folder)), 'zip', source_folder)\n",
    "\n",
    "def pack_all(parent_folder, folders_to_pack=None):\n",
    "    #Zips each of the listed folders in folders_to_pack and saves the zip file in the same directory\n",
    "    if folders_to_pack == None:\n",
    "        folders_to_pack = [dI for dI in os.listdir(parent_folder) if os.path.isdir(os.path.join(parent_folder,dI))]\n",
    "        print(\"folders to pack are %s\" %folders_to_pack)\n",
    "    for folder_name in folders_to_pack:\n",
    "        shutil.make_archive(os.path.join(parent_folder, folder_name), 'zip', os.path.join(parent_folder, folder_name))\n",
    "        \n",
    "def pack_all_to(parent_folder, destination_folder, folders_to_pack = None):\n",
    "    #Zips each of the listed folders in folders_to_pack and saves the zip file in the same directory\n",
    "    if folders_to_pack == None:\n",
    "        folders_to_pack = [dI for dI in os.listdir(parent_folder) if os.path.isdir(os.path.join(parent_folder,dI))]\n",
    "        print(\"folders to pack are %s\" %folders_to_pack)\n",
    "    for folder_name in folders_to_pack:\n",
    "        shutil.make_archive(os.path.join(destination_folder, folder_name), 'zip', os.path.join(parent_folder, folder_name))"
   ]
  }
 ],
 "metadata": {
  "kernelspec": {
   "display_name": "Python 3",
   "language": "python",
   "name": "python3"
  },
  "language_info": {
   "codemirror_mode": {
    "name": "ipython",
    "version": 3
   },
   "file_extension": ".py",
   "mimetype": "text/x-python",
   "name": "python",
   "nbconvert_exporter": "python",
   "pygments_lexer": "ipython3",
   "version": "3.7.0"
  }
 },
 "nbformat": 4,
 "nbformat_minor": 2
}
